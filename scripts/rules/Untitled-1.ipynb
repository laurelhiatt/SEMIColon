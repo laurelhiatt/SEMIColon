{
 "cells": [
  {
   "cell_type": "code",
   "execution_count": null,
   "id": "3b67666e",
   "metadata": {},
   "outputs": [],
   "source": [
    "import os\n",
    "import re\n",
    "\n",
    "def make_chroms_dict(directory_path, chroms):\n",
    "    chrom_chunks = {}\n",
    "    try:\n",
    "        # List files in the directory\n",
    "        for chrom in chroms:\n",
    "            for filename in os.listdir(directory_path):\n",
    "            # Construct the full file path\n",
    "                match = re.search(rf\"chunk\\.{chrom}\\.region\\.(\\d+)\\.bed\", filename)\n",
    "                print(match)\n",
    "                if match:\n",
    "                # Extract chromosome and chunk number\n",
    "                    chunk_number = int(match.group(2))\n",
    "\n",
    "                # Add to dictionary\n",
    "                    if chroms not in chrom_chunks:\n",
    "                        chrom_chunks[chroms] = []\n",
    "                    chrom_chunks[chroms].append(chunk_number)\n",
    "\n",
    "    except FileNotFoundError:\n",
    "        print(f\"Error: Directory not found at {directory_path}\")\n",
    "    except Exception as e:\n",
    "        print(f\"An error occurred: {e}\")\n",
    "    return chrom_chunks\n",
    "\n"
   ]
  },
  {
   "cell_type": "code",
   "execution_count": 31,
   "id": "2f74722a",
   "metadata": {},
   "outputs": [],
   "source": [
    "chroms = [\"chr1\",\"chr2\",\"chr3\",\"chr4\",\"chr6\",\"chr7\",\"chr8\",\"chr9\",\"chr10\",\"chr11\",\"chr12\",\n",
    "    \"chr13\",\"chr14\",\"chr15\",\"chr16\",\"chr17\", \"chr18\",\"chr19\",\"chr20\",\"chr21\",\"chr22\",\"chrX\",\"chrY\"]\n"
   ]
  },
  {
   "cell_type": "code",
   "execution_count": 32,
   "id": "c87d2dd9",
   "metadata": {},
   "outputs": [
    {
     "name": "stdout",
     "output_type": "stream",
     "text": [
      "None\n",
      "None\n",
      "None\n",
      "None\n",
      "None\n",
      "None\n",
      "None\n",
      "None\n",
      "None\n",
      "None\n",
      "<re.Match object; span=(0, 24), match='chunk.chr12.region.1.bed'>\n",
      "An error occurred: no such group\n"
     ]
    }
   ],
   "source": [
    "chromosome_chunks_dict = make_chroms_dict(\"/uufs/chpc.utah.edu/common/HIPAA/u1264408/u1264408/Git/SEMIColon/data/output/CellCut/regions\", chroms)"
   ]
  },
  {
   "cell_type": "code",
   "execution_count": 18,
   "id": "4f221ab2",
   "metadata": {},
   "outputs": [
    {
     "data": {
      "text/plain": [
       "{}"
      ]
     },
     "execution_count": 18,
     "metadata": {},
     "output_type": "execute_result"
    }
   ],
   "source": [
    "chromosome_chunks_dict"
   ]
  }
 ],
 "metadata": {
  "kernelspec": {
   "display_name": "base",
   "language": "python",
   "name": "python3"
  },
  "language_info": {
   "codemirror_mode": {
    "name": "ipython",
    "version": 3
   },
   "file_extension": ".py",
   "mimetype": "text/x-python",
   "name": "python",
   "nbconvert_exporter": "python",
   "pygments_lexer": "ipython3",
   "version": "3.12.9"
  }
 },
 "nbformat": 4,
 "nbformat_minor": 5
}
