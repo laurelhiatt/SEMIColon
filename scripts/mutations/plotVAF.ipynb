{
 "cells": [
  {
   "cell_type": "code",
   "execution_count": 1,
   "id": "3739444e",
   "metadata": {},
   "outputs": [],
   "source": [
    "import glob\n",
    "import os\n",
    "import pandas as pd\n",
    "import matplotlib.pyplot as plt"
   ]
  },
  {
   "cell_type": "code",
   "execution_count": 2,
   "id": "5201c33d",
   "metadata": {},
   "outputs": [],
   "source": [
    "input_dir = \"/uufs/chpc.utah.edu/common/HIPAA/u1264408/u1264408/Git/SEMIColon/data/output/CellCut/results/vaf_spectra/txtfiles/\"\n",
    "out_png = \"/uufs/chpc.utah.edu/common/HIPAA/u1264408/u1264408/Git/SEMIColon/data/output/CellCut/results/vaf_spectra/plots\""
   ]
  },
  {
   "cell_type": "code",
   "execution_count": 3,
   "id": "1527fe6e",
   "metadata": {},
   "outputs": [],
   "source": [
    "files = glob.glob(os.path.join(input_dir, \"*_snv_count.txt\"))\n",
    "\n",
    "sample_data = {}\n",
    "\n",
    "for file in files:\n",
    "    sample = os.path.basename(file).replace(\"_snv_count.txt\", \"\")\n",
    "    df = pd.read_csv(file, sep=\"\\t\", comment=\"#\")\n",
    "    if \"VAF\" not in df.columns:\n",
    "        continue  # skip if file has no VAF column\n",
    "    sample_data[sample] = df[\"VAF\"]"
   ]
  },
  {
   "cell_type": "code",
   "execution_count": 12,
   "id": "76958963",
   "metadata": {},
   "outputs": [],
   "source": [
    "os.makedirs(out_png, exist_ok=True)\n",
    "\n",
    "for sample, vafs in sample_data.items():\n",
    "    plt.figure(figsize=(8, 3))\n",
    "    plt.hist(vafs, bins=30, range=(0, 1), alpha=0.7, color=\"steelblue\", edgecolor=\"black\")\n",
    "    plt.title(f\"{sample} - Unique SNV VAFs\")\n",
    "    plt.xlabel(\"Variant Allele Frequency (VAF)\")\n",
    "    plt.ylabel(\"Count\")\n",
    "    plt.xlim(0, 1)\n",
    "    # plt.ylim(0,3000)\n",
    "    plt.tight_layout()\n",
    "\n",
    "    # save with sample name in filename\n",
    "    outfile = os.path.join(out_png, f\"{sample}_vaf_hist.png\")\n",
    "    plt.savefig(outfile, dpi=300)\n",
    "    plt.close()"
   ]
  },
  {
   "cell_type": "code",
   "execution_count": 4,
   "id": "367a2ed6",
   "metadata": {},
   "outputs": [],
   "source": [
    "## Plot VAF by mutation type\n",
    "mutation_map = {\n",
    "    \"C>A\": [\"C>A\", \"G>T\"],\n",
    "    \"C>G\": [\"C>G\", \"G>C\"],\n",
    "    \"C>T\": [\"C>T\", \"G>A\"],\n",
    "    \"T>A\": [\"T>A\", \"A>T\"],\n",
    "    \"T>C\": [\"T>C\", \"A>G\"],\n",
    "    \"T>G\": [\"T>G\", \"A>C\"],\n",
    "}\n",
    "\n",
    "def assign_class(ref, alt):\n",
    "    mut = f\"{ref}>{alt}\"\n",
    "    for mclass, muts in mutation_map.items():\n",
    "        if mut in muts:\n",
    "            return mclass\n",
    "    return None"
   ]
  },
  {
   "cell_type": "code",
   "execution_count": 5,
   "id": "ca09e5d3",
   "metadata": {},
   "outputs": [],
   "source": [
    "def plot_vaf_by_class(txt_file, out_dir):\n",
    "    sample = os.path.basename(txt_file).replace(\"_snv_count.txt\", \"\")\n",
    "\n",
    "    # load SNVs\n",
    "    df = pd.read_csv(txt_file, sep=\"\\t\", comment=\"#\")\n",
    "\n",
    "    # assign mutation classes\n",
    "    df[\"Class\"] = df.apply(lambda r: assign_class(r[\"REF\"], r[\"ALT\"]), axis=1)\n",
    "\n",
    "    # output path\n",
    "    os.makedirs(out_dir, exist_ok=True)\n",
    "    out_file = os.path.join(out_dir, f\"{sample}_mutation_classes.png\")\n",
    "\n",
    "    # make 6 subplots\n",
    "    fig, axes = plt.subplots(2, 3, figsize=(15, 8), sharex=True, sharey=True)\n",
    "    axes = axes.flatten()\n",
    "\n",
    "    for ax, mclass in zip(axes, mutation_map.keys()):\n",
    "        vafs = df.loc[df[\"Class\"] == mclass, \"VAF\"]\n",
    "        ax.hist(vafs, bins=30, range=(0, 1), alpha=0.7,\n",
    "                color=\"steelblue\", edgecolor=\"black\")\n",
    "        ax.set_title(f\"{mclass}\")\n",
    "        ax.set_xlim(0, 1)\n",
    "        ax.set_ylim(0, None)\n",
    "\n",
    "    fig.suptitle(f\"{sample} - VAF by Mutation Type\", fontsize=14)\n",
    "    for ax in axes[3:]:\n",
    "        ax.set_xlabel(\"Variant Allele Frequency (VAF)\")\n",
    "    for ax in [axes[0], axes[3]]:\n",
    "        ax.set_ylabel(\"Count\")\n",
    "\n",
    "    plt.tight_layout(rect=[0, 0, 1, 0.95])\n",
    "    plt.savefig(out_file, dpi=300)\n",
    "    plt.close()"
   ]
  },
  {
   "cell_type": "code",
   "execution_count": 15,
   "id": "3a377100",
   "metadata": {},
   "outputs": [],
   "source": [
    "def process_dir(input_dir, out_dir):\n",
    "    txt_files = glob.glob(os.path.join(input_dir, \"*_snv_count.txt\"))\n",
    "    for f in txt_files:\n",
    "        plot_vaf_by_class(f, out_dir)"
   ]
  },
  {
   "cell_type": "code",
   "execution_count": 16,
   "id": "0279580d",
   "metadata": {},
   "outputs": [],
   "source": [
    "process_dir(input_dir, out_png)"
   ]
  },
  {
   "cell_type": "markdown",
   "id": "f80661ba",
   "metadata": {},
   "source": [
    "Okay so that's for all the different sample-specific plots. Here is for the two cohorts --> "
   ]
  },
  {
   "cell_type": "code",
   "execution_count": 6,
   "id": "9a8454b8",
   "metadata": {},
   "outputs": [],
   "source": [
    "def plot_vaf_by_class_donors(df, cohort_name, out_dir):\n",
    "    \"\"\"Make VAF histogram plots by mutation class for a cohort dataframe.\"\"\"\n",
    "    os.makedirs(out_dir, exist_ok=True)\n",
    "    out_file = os.path.join(out_dir, f\"{cohort_name}_mutation_classes.png\")\n",
    "\n",
    "    fig, axes = plt.subplots(2, 3, figsize=(15, 8), sharex=True, sharey=True)\n",
    "    axes = axes.flatten()\n",
    "\n",
    "    for ax, mclass in zip(axes, mutation_map.keys()):\n",
    "        vafs = df.loc[df[\"Class\"] == mclass, \"VAF\"]\n",
    "        ax.hist(vafs, bins=30, range=(0, 1), alpha=0.7,\n",
    "                color=\"steelblue\", edgecolor=\"black\")\n",
    "        ax.set_title(f\"{mclass}\")\n",
    "        ax.set_xlim(0, 1)\n",
    "        ax.set_ylim(0, 50000)\n",
    "\n",
    "    fig.suptitle(f\"{cohort_name} - VAF by Mutation Type\", fontsize=14)\n",
    "    for ax in axes[3:]:\n",
    "        ax.set_xlabel(\"Variant Allele Frequency (VAF)\")\n",
    "    for ax in [axes[0], axes[3]]:\n",
    "        ax.set_ylabel(\"Count\")\n",
    "\n",
    "    plt.tight_layout(rect=[0, 0, 1, 0.95])\n",
    "    plt.savefig(out_file, dpi=300)\n",
    "    plt.close()\n",
    "\n",
    "\n",
    "def process_dir_donors(input_dir, out_dir, lee_donors, hiatt_donors):\n",
    "    txt_files = glob.glob(os.path.join(input_dir, \"*_snv_count.txt\"))\n",
    "\n",
    "    lee_df_list = []\n",
    "    hiatt_df_list = []\n",
    "\n",
    "    for f in txt_files:\n",
    "        fname = os.path.basename(f)\n",
    "\n",
    "        # classify file based on donor strings in filename\n",
    "        if any(tag in fname for tag in lee_donors):\n",
    "            cohort = \"Lee\"\n",
    "        elif any(tag in fname for tag in hiatt_donors):\n",
    "            cohort = \"Hiatt\"\n",
    "        else:\n",
    "            continue  # skip files not matching either cohort\n",
    "\n",
    "        df = pd.read_csv(f, sep=\"\\t\", comment=\"#\")\n",
    "        df[\"Class\"] = df.apply(lambda r: assign_class(r[\"REF\"], r[\"ALT\"]), axis=1)\n",
    "\n",
    "        if cohort == \"Lee\":\n",
    "            lee_df_list.append(df)\n",
    "        else:\n",
    "            hiatt_df_list.append(df)\n",
    "\n",
    "    # concatenate and plot\n",
    "    if lee_df_list:\n",
    "        lee_df = pd.concat(lee_df_list, ignore_index=True)\n",
    "        plot_vaf_by_class_donors(lee_df, \"Lee_cohort\", out_dir)\n",
    "\n",
    "    if hiatt_df_list:\n",
    "        hiatt_df = pd.concat(hiatt_df_list, ignore_index=True)\n",
    "        plot_vaf_by_class_donors(hiatt_df, \"Hiatt_cohort\", out_dir)\n"
   ]
  },
  {
   "cell_type": "code",
   "execution_count": 7,
   "id": "a897f7d7",
   "metadata": {},
   "outputs": [],
   "source": [
    "lee_donors = [\"PD\", \"HLS\"]\n",
    "hiatt_donors = [\"AS\", \"AC\", \"DC\", \"DE\", \"CE\", \"RE\", \"TR\", \"SI\", \"TC\", \"RTM\", \"Laurel\"]\n",
    "\n",
    "process_dir_donors(input_dir, out_png, lee_donors, hiatt_donors)\n",
    "\n"
   ]
  }
 ],
 "metadata": {
  "kernelspec": {
   "display_name": "base",
   "language": "python",
   "name": "python3"
  },
  "language_info": {
   "codemirror_mode": {
    "name": "ipython",
    "version": 3
   },
   "file_extension": ".py",
   "mimetype": "text/x-python",
   "name": "python",
   "nbconvert_exporter": "python",
   "pygments_lexer": "ipython3",
   "version": "3.12.9"
  }
 },
 "nbformat": 4,
 "nbformat_minor": 5
}
