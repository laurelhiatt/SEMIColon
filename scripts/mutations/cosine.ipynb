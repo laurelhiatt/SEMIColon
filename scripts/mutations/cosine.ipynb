{
 "cells": [
  {
   "cell_type": "code",
   "execution_count": 1,
   "id": "549dfce1",
   "metadata": {},
   "outputs": [],
   "source": [
    "import numpy as np\n",
    "import pandas as pd\n",
    "from scipy.spatial.distance import cosine"
   ]
  },
  {
   "cell_type": "code",
   "execution_count": 2,
   "id": "24226959",
   "metadata": {},
   "outputs": [],
   "source": [
    "# matrix = pd.read_csv(\"/uufs/chpc.utah.edu/common/HIPAA/u1264408/u1264408/Git/SEMIColon/data/output/CellCut/results/vaf_spectra_under885/output/SBS/vaf_spectra.SBS6.all\", sep='\\t')\n",
    "\n",
    "# matrix = pd.read_csv(\"/uufs/chpc.utah.edu/common/HIPAA/u1264408/u1264408/Git/SEMIColon/data/output/CellCut/results/vaf_spectra_interval0.2and0.885/output/SBS/vaf_spectra.SBS6.all\", sep='\\t')\n",
    "\n",
    "# matrix = pd.read_csv(\"/uufs/chpc.utah.edu/common/HIPAA/u1264408/u1264408/Git/SEMIColon/data/output/CellCut/results/vafunder0.885full/output/SBS/vaf_spectra.SBS6.all\", sep='\\t')\n",
    "\n",
    "\n",
    "matrix = pd.read_csv(\"/uufs/chpc.utah.edu/common/HIPAA/u1264408/u1264408/Git/SEMIColon/data/output/CellCut/results/vaf_spectra/output/SBS/vaf_spectra.SBS6.all\", sep='\\t')\n",
    "\n"
   ]
  },
  {
   "cell_type": "code",
   "execution_count": 3,
   "id": "093e3b3c",
   "metadata": {},
   "outputs": [
    {
     "name": "stdout",
     "output_type": "stream",
     "text": [
      "['MutationType', '029_DC_T_filtered_snvs', '030_CE_T_filtered_snvs', '031_RE_T_filtered_snvs', '058_RE_T_filtered_snvs', '148_SI_filtered_snvs', '17_27AS_filtered_snvs', '18_27RE_filtered_snvs', '19_27TR_filtered_snvs', '20_40DC_filtered_snvs', '22_76TR_filtered_snvs', '24_130DC_filtered_snvs', '27_CE_filtered_snvs', '27_DC_filtered_snvs', '29_74TR_filtered_snvs', '29_CE_filtered_snvs', '30_130RE_filtered_snvs', '30_TR_filtered_snvs', '32_29TR_filtered_snvs', '33_130AS_filtered_snvs', '40_AS_filtered_snvs', '58_DC_filtered_snvs', '58_TR_filtered_snvs', '74_DC_filtered_snvs', 'A13__148_AS_filtered_snvs', 'A16__084_CE_filtered_snvs', 'A1__031_AS_filtered_snvs', 'A2__148_CE_filtered_snvs', 'A5__074_AS_filtered_snvs', 'A8__093_SI_filtered_snvs', 'A9_09_CE_filtered_snvs', 'B10_058_CE_filtered_snvs', 'B13_148_DC_filtered_snvs', 'B14_031_CE_filtered_snvs', 'B15_148_RE_filtered_snvs', 'B17_277_DC_filtered_snvs', 'B18_115_TC_filtered_snvs', 'B19_277_TC_filtered_snvs', 'B1_115_SI_filtered_snvs', 'B20_273_CE_filtered_snvs', 'B21_153_CE_filtered_snvs', 'B22_93_TR_filtered_snvs', 'B23_153_RE_filtered_snvs', 'B26_115_DC_filtered_snvs', 'B28_31_TR_filtered_snvs', 'B29_09_AS_filtered_snvs', 'B32_93_AS_filtered_snvs', 'B33_153_AS_filtered_snvs', 'B35_130_TR_filtered_snvs', 'B39_277_CE_filtered_snvs', 'B3_084_DC_filtered_snvs', 'B41_277_AC_filtered_snvs', 'B42_277_RTM_filtered_snvs', 'B43_273_AS_filtered_snvs', 'B44_273_TR_filtered_snvs', 'B45_273_SI_filtered_snvs', 'B46_273_DE_filtered_snvs', 'B47_273_RE_filtered_snvs', 'B4_076_SI_filtered_snvs', 'B5_031_RE_filtered_snvs', 'B6_153_SI_filtered_snvs', 'B7_030_DC_filtered_snvs', 'B9_115_RE_filtered_snvs', 'HLS_1C_30_B5_filtered_snvs', 'HLS_1C_30_D5_filtered_snvs', 'HLS_1C_30_G5_filtered_snvs', 'HLS_1C_30_H5_filtered_snvs', 'HLS_2C_30_D6_filtered_snvs', 'HLS_2C_30_E6_filtered_snvs', 'Laurel-10_filtered_snvs', 'Laurel-2_filtered_snvs', 'PD28690bx_2_a5_filtered_snvs', 'PD28690bx_2_d5_filtered_snvs', 'PD28690cb_2_g1_filtered_snvs', 'PD28690cb_2_g3_filtered_snvs', 'PD28690cb_2_h1_filtered_snvs', 'PD28690cb_2_h3_filtered_snvs', 'PD34199a_c17_filtered_snvs', 'PD34199a_c22_filtered_snvs', 'PD34199a_c27_filtered_snvs', 'PD34199a_c28_filtered_snvs', 'PD34199a_c31_filtered_snvs', 'PD34199a_c3_filtered_snvs', 'PD34199a_c5_filtered_snvs', 'PD34199a_c7_filtered_snvs', 'PD34199a_s13_filtered_snvs', 'PD34199a_s16_filtered_snvs', 'PD34199a_s27_filtered_snvs', 'PD34199a_s2_filtered_snvs', 'PD34199a_s31_filtered_snvs', 'PD34199a_s4_filtered_snvs', 'PD34199a_t14_filtered_snvs', 'PD34199a_t16_filtered_snvs', 'PD34199a_t18_filtered_snvs', 'PD34199a_t22_filtered_snvs', 'PD34199a_t24_filtered_snvs', 'PD34199a_t28_filtered_snvs', 'PD34199a_t31_filtered_snvs', 'PD34202a_s12_filtered_snvs', 'PD34202a_s15_filtered_snvs', 'PD34202a_s27_filtered_snvs', 'PD34202a_s41_filtered_snvs', 'PD34202a_s43_filtered_snvs', 'PD34202a_s9_filtered_snvs', 'PD36719a_lo005_filtered_snvs', 'PD36719a_lo008_filtered_snvs', 'PD36719a_lo018_filtered_snvs', 'PD36719a_lo022_filtered_snvs', 'PD36719a_lo034_filtered_snvs', 'PD36719a_lo048_filtered_snvs', 'PD36719a_lo049_filtered_snvs', 'PD36719a_lo066_filtered_snvs', 'PD36719a_lo072_filtered_snvs', 'PD36813aa11_filtered_snvs', 'PD36813aa12_filtered_snvs', 'PD36813aa16_filtered_snvs', 'PD36813aa2_filtered_snvs', 'PD36813aa7_filtered_snvs', 'PD36813aa_filtered_snvs', 'PD36813ab10_filtered_snvs', 'PD36813ab4_filtered_snvs', 'PD36813ab5_filtered_snvs', 'PD36813ac15_filtered_snvs', 'PD36813ac18_filtered_snvs', 'PD36813ac2_filtered_snvs', 'PD36813ac4_filtered_snvs', 'PD36813ac7_filtered_snvs', 'PD36813ad17_filtered_snvs', 'PD36813ad2_filtered_snvs', 'PD36813ad8_filtered_snvs', 'PD36813ad9_filtered_snvs', 'PD36813ae3_filtered_snvs', 'PD36813ae7_filtered_snvs', 'PD36813ae_filtered_snvs', 'PD36813b4_filtered_snvs', 'PD36813b5_filtered_snvs', 'PD36813b6_filtered_snvs', 'PD36813c2_filtered_snvs', 'PD36813c3_filtered_snvs', 'PD36813c_filtered_snvs', 'PD36813d3_filtered_snvs', 'PD36813d5_filtered_snvs', 'PD36813e5_filtered_snvs', 'PD36813e6_filtered_snvs', 'PD36813e_filtered_snvs', 'PD36813g2_filtered_snvs', 'PD36813g4_filtered_snvs', 'PD36813h3_filtered_snvs', 'PD36813h5_filtered_snvs', 'PD36813h_filtered_snvs', 'PD36813i4_filtered_snvs', 'PD36813i6_filtered_snvs', 'PD36813i_filtered_snvs', 'PD36813j3_filtered_snvs', 'PD36813j6_filtered_snvs', 'PD36813j_filtered_snvs', 'PD36813k3_filtered_snvs', 'PD36813k5_filtered_snvs', 'PD36813k_filtered_snvs', 'PD36813l7_filtered_snvs', 'PD36813l8_filtered_snvs', 'PD36813l_filtered_snvs', 'PD36813m3_filtered_snvs', 'PD36813m5_filtered_snvs', 'PD36813m8_filtered_snvs', 'PD36813n_filtered_snvs', 'PD36813o2_filtered_snvs', 'PD36813o9_filtered_snvs', 'PD36813p_filtered_snvs', 'PD36813q11_filtered_snvs', 'PD36813q14_filtered_snvs', 'PD36813r12_filtered_snvs', 'PD36813r14_filtered_snvs', 'PD36813s12_filtered_snvs', 'PD36813t20_filtered_snvs', 'PD36813u2_filtered_snvs', 'PD36813v4_filtered_snvs', 'PD36813x15_filtered_snvs', 'PD36813x16_filtered_snvs', 'PD36813y13_filtered_snvs', 'PD36813y15_filtered_snvs', 'PD36813y6_filtered_snvs', 'PD36813y7_filtered_snvs', 'PD36813z15_filtered_snvs', 'PD36813z4_filtered_snvs', 'PD36813z5_filtered_snvs', 'PD36813z6_filtered_snvs', 'PD36813z7_filtered_snvs', 'PD36813z8_filtered_snvs', 'PD36814b2_filtered_snvs', 'PD36814b7_filtered_snvs', 'PD36814c2_filtered_snvs', 'PD36814c3_filtered_snvs', 'PD36814c4_filtered_snvs', 'PD36814d5_filtered_snvs', 'PD36814d6_filtered_snvs', 'PD36814d7_filtered_snvs', 'PD36814d8_filtered_snvs', 'PD36814e5_filtered_snvs', 'PD36814e6_filtered_snvs', 'PD36814e7_filtered_snvs', 'PD36814e8_filtered_snvs', 'PD36814f4_filtered_snvs', 'PD36814f8_filtered_snvs', 'PD36814g4_filtered_snvs', 'PD36814g7_filtered_snvs', 'PD36814g8_filtered_snvs', 'PD36814h2_filtered_snvs', 'PD36814h4_filtered_snvs', 'PD36814i3_filtered_snvs', 'PD36814i4_filtered_snvs', 'PD36814i_filtered_snvs', 'PD36814k2_filtered_snvs', 'PD36814k6_filtered_snvs', 'PD36814k7_filtered_snvs', 'PD36814k8_filtered_snvs', 'PD36814l2_filtered_snvs', 'PD36814l4_filtered_snvs', 'PD36814l7_filtered_snvs', 'PD36814l8_filtered_snvs', 'PD36814m5_filtered_snvs', 'PD36814m8_filtered_snvs', 'PD37226b5_filtered_snvs', 'PD37226b6_filtered_snvs', 'PD37226c5_filtered_snvs', 'PD37226c6_filtered_snvs', 'PD37226c7_filtered_snvs', 'PD37226c8_filtered_snvs', 'PD37226d4_filtered_snvs', 'PD37226d5_filtered_snvs', 'PD37226d6_filtered_snvs', 'PD37226e4_filtered_snvs', 'PD37226e5_filtered_snvs', 'PD37226f5_filtered_snvs', 'PD37226f6_filtered_snvs', 'PD37226f7_filtered_snvs', 'PD37226g5_filtered_snvs', 'PD37226g6_filtered_snvs', 'PD37226g7_filtered_snvs', 'PD37226h4_filtered_snvs', 'PD37226h7_filtered_snvs', 'PD37226h8_filtered_snvs', 'PD37226i5_filtered_snvs', 'PD37226i6_filtered_snvs', 'PD37226i7_filtered_snvs', 'PD37226i8_filtered_snvs', 'PD37226j4_filtered_snvs', 'PD37226j5_filtered_snvs', 'PD37226j6_filtered_snvs', 'PD37226j7_filtered_snvs', 'PD37226j8_filtered_snvs', 'PD37226k2_filtered_snvs', 'PD37226k5_filtered_snvs', 'PD37226k6_filtered_snvs', 'PD37226k8_filtered_snvs', 'PD37226l5_filtered_snvs', 'PD37226l6_filtered_snvs', 'PD37226l7_filtered_snvs', 'PD37226l8_filtered_snvs', 'PD37226m5_filtered_snvs', 'PD37226m7_filtered_snvs', 'PD37226m8_filtered_snvs', 'PD37226o4_filtered_snvs', 'PD37226o5_filtered_snvs', 'PD37226p7_filtered_snvs', 'PD37265b7_filtered_snvs', 'PD37265b_filtered_snvs', 'PD37265c2_filtered_snvs', 'PD37265c3_filtered_snvs', 'PD37265c5_filtered_snvs', 'PD37265d5_filtered_snvs', 'PD37265d8_filtered_snvs', 'PD37265d_filtered_snvs', 'PD37265e5_filtered_snvs', 'PD37265e_filtered_snvs', 'PD37265f2_filtered_snvs', 'PD37265f4_filtered_snvs', 'PD37265f_filtered_snvs', 'PD37265g6_filtered_snvs', 'PD37265g7_filtered_snvs', 'PD37265g8_filtered_snvs', 'PD37265h5_filtered_snvs', 'PD37265h6_filtered_snvs', 'PD37265h8_filtered_snvs', 'PD37265i2_filtered_snvs', 'PD37265i7_filtered_snvs', 'PD37265k2_filtered_snvs', 'PD37265k3_filtered_snvs', 'PD37265k_filtered_snvs', 'PD37265l2_filtered_snvs', 'PD37265l6_filtered_snvs', 'PD37265m3_filtered_snvs', 'PD37265m4_filtered_snvs', 'PD37266b_lo0004_filtered_snvs', 'PD37266b_lo0005_filtered_snvs', 'PD37266b_lo0006_filtered_snvs', 'PD37266b_lo0007_filtered_snvs', 'PD37266b_lo0008_filtered_snvs', 'PD37266b_lo0017_filtered_snvs', 'PD37266b_lo0023_filtered_snvs', 'PD37266c_lo0010_filtered_snvs', 'PD37266c_lo0012_filtered_snvs', 'PD37266c_lo0014_filtered_snvs', 'PD37266c_lo0016_filtered_snvs', 'PD37266c_lo0018_filtered_snvs', 'PD37266c_lo0023_filtered_snvs', 'PD37266d_lo0002_filtered_snvs', 'PD37266d_lo0010_filtered_snvs', 'PD37266d_lo0012_filtered_snvs', 'PD37266d_lo0014_filtered_snvs', 'PD37266e_lo0008_filtered_snvs', 'PD37266e_lo0010_filtered_snvs', 'PD37449c_lo0001_filtered_snvs', 'PD37449c_lo0009_filtered_snvs', 'PD37449c_lo0014_filtered_snvs', 'PD37449c_lo0017_filtered_snvs', 'PD37449d_lo0001_filtered_snvs', 'PD37449d_lo0002_filtered_snvs', 'PD37449d_lo0003_filtered_snvs', 'PD37449d_lo0006_filtered_snvs', 'PD37449d_lo0011_filtered_snvs', 'PD37449d_lo0012_filtered_snvs', 'PD37449d_lo0017_filtered_snvs', 'PD37449e_lo0001_filtered_snvs', 'PD37449e_lo0002_filtered_snvs', 'PD37449e_lo0003_filtered_snvs', 'PD37449e_lo0004_filtered_snvs', 'PD37449e_lo0006_filtered_snvs', 'PD37449e_lo0008_filtered_snvs', 'PD37449e_lo0010_filtered_snvs', 'PD37449e_lo0014_filtered_snvs', 'PD37449e_lo0015_filtered_snvs', 'PD37449f_lo0002_filtered_snvs', 'PD37449f_lo0006_filtered_snvs', 'PD37449f_lo0008_filtered_snvs', 'PD37449f_lo0010_filtered_snvs', 'PD37449f_lo0011_filtered_snvs', 'PD37449f_lo0016_filtered_snvs', 'PD37449f_lo0017_filtered_snvs', 'PD37449f_lo0019_filtered_snvs', 'PD37449f_lo0022_filtered_snvs', 'PD37449f_lo0023_filtered_snvs', 'PD37457b4_filtered_snvs', 'PD37457c4_filtered_snvs', 'PD37457e6_filtered_snvs', 'PD37457f4_filtered_snvs', 'PD37457f7_filtered_snvs', 'PD37457g5_filtered_snvs', 'PD37457h2_filtered_snvs', 'PD37457h5_filtered_snvs', 'PD37457i4_filtered_snvs', 'PD37457i5_filtered_snvs', 'PD37457j7_filtered_snvs', 'PD37457j8_filtered_snvs', 'PD37509b8_filtered_snvs', 'PD37509b9_filtered_snvs', 'PD37510b4_filtered_snvs', 'PD37510b7_filtered_snvs', 'PD37510b8_filtered_snvs', 'PD37512a11_filtered_snvs', 'PD37512a4_filtered_snvs', 'PD37512a5_filtered_snvs', 'PD37512b7_filtered_snvs', 'PD37513a13_filtered_snvs', 'PD37513a20_filtered_snvs', 'PD37513a21_filtered_snvs', 'PD37513a2_filtered_snvs', 'PD37513a3_filtered_snvs', 'PD37513b5_filtered_snvs', 'PD37513b7_filtered_snvs', 'PD37513b8_filtered_snvs', 'PD37514a2_filtered_snvs', 'PD37514a3_filtered_snvs', 'PD37514a_filtered_snvs', 'PD37514b3_filtered_snvs', 'PD37514b7_filtered_snvs', 'PD37514b8_filtered_snvs', 'PD37590b_lo0010_filtered_snvs', 'PD37590b_lo0015_filtered_snvs', 'PD37590b_lo0018_filtered_snvs', 'PD37590b_lo0030_filtered_snvs', 'PD37590b_lo0033_filtered_snvs', 'PD37590b_lo0041_filtered_snvs', 'PD37590b_lo0051_filtered_snvs', 'PD37590b_lo0052_filtered_snvs', 'PD37590b_lo0053_filtered_snvs', 'PD37590b_lo0058_filtered_snvs', 'PD37590b_lo0074_filtered_snvs', 'PD37590b_lo0075_filtered_snvs', 'PD37590b_lo0090_filtered_snvs', 'PD37590b_lo0092_filtered_snvs', 'PD37590b_lo0107_filtered_snvs', 'PD37590b_lo0116_filtered_snvs', 'PD37590b_lo0117_filtered_snvs', 'PD37590c_lo0001_filtered_snvs', 'PD37590c_lo0005_filtered_snvs', 'PD37590c_lo0009_filtered_snvs', 'PD37590c_lo0019_filtered_snvs', 'PD37590c_lo0021_filtered_snvs', 'PD37590c_lo0025_filtered_snvs', 'PD37590c_lo0032_filtered_snvs', 'PD37590c_lo0034_filtered_snvs', 'PD37590c_lo0040_filtered_snvs', 'PD37590c_lo0048_filtered_snvs', 'PD37590d_lo0012_filtered_snvs']\n"
     ]
    }
   ],
   "source": [
    "column_names = list(matrix.columns)\n",
    "print(column_names)"
   ]
  },
  {
   "cell_type": "code",
   "execution_count": 5,
   "id": "03076983",
   "metadata": {},
   "outputs": [],
   "source": [
    "lee_donors = matrix.columns[matrix.columns.str.contains('PD', 'HLS')]\n",
    "hiatt_donors= ['AS', 'AC', 'DC', 'DE', 'CE', 'RE', 'TR', 'SI', 'TC', 'RTM', 'Laurel']\n",
    "col_hiatt = matrix.columns[matrix.columns.str.contains('|'.join(hiatt_donors))]\n",
    "matrix['Lee-Six'] = matrix[lee_donors].sum(axis=1)\n",
    "matrix['Hiatt'] = matrix[col_hiatt].sum(axis=1)\n",
    "\n"
   ]
  },
  {
   "cell_type": "code",
   "execution_count": 24,
   "id": "5fe1ae8f",
   "metadata": {},
   "outputs": [],
   "source": [
    "# matrix['CellCut'] = matrix.apply(lambda row: row['B17_277_DC_filtered_snvs'] + row['B18_115_TC_filtered_snvs'], axis=1)"
   ]
  },
  {
   "cell_type": "code",
   "execution_count": 8,
   "id": "bdbe3f3b",
   "metadata": {},
   "outputs": [],
   "source": [
    "# spectrum1 = np.array([10, 15, 20, 5, 8, 12]) # Example 96-dimensional vector\n",
    "# spectrum2 = np.array([12, 18, 22, 6, 7, 10]) # Another 96-dimensional vector\n",
    "\n",
    "spectrum1 = matrix['Hiatt'].values\n",
    "spectrum2 = matrix['Lee-Six'].values"
   ]
  },
  {
   "cell_type": "code",
   "execution_count": 9,
   "id": "77fe9057",
   "metadata": {},
   "outputs": [],
   "source": [
    "cosine_distance = cosine(spectrum1/100, spectrum2/100)\n"
   ]
  },
  {
   "cell_type": "code",
   "execution_count": 10,
   "id": "62dfb355",
   "metadata": {},
   "outputs": [
    {
     "name": "stdout",
     "output_type": "stream",
     "text": [
      "Cosine distance: 0.0179\n",
      "Cosine similarity: 0.9821\n"
     ]
    }
   ],
   "source": [
    "cosine_similarity = 1 - cosine_distance\n",
    "\n",
    "print(f\"Cosine distance: {cosine_distance:.4f}\")\n",
    "print(f\"Cosine similarity: {cosine_similarity:.4f}\")\n"
   ]
  }
 ],
 "metadata": {
  "kernelspec": {
   "display_name": "base",
   "language": "python",
   "name": "python3"
  },
  "language_info": {
   "codemirror_mode": {
    "name": "ipython",
    "version": 3
   },
   "file_extension": ".py",
   "mimetype": "text/x-python",
   "name": "python",
   "nbconvert_exporter": "python",
   "pygments_lexer": "ipython3",
   "version": "3.12.9"
  }
 },
 "nbformat": 4,
 "nbformat_minor": 5
}
