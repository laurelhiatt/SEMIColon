{
 "cells": [
  {
   "cell_type": "code",
   "execution_count": 6,
   "id": "8c7aa798",
   "metadata": {},
   "outputs": [],
   "source": [
    "from SigProfilerMatrixGenerator import install as genInstall"
   ]
  },
  {
   "cell_type": "code",
   "execution_count": 7,
   "id": "31c3c5fe",
   "metadata": {},
   "outputs": [
    {
     "name": "stdout",
     "output_type": "stream",
     "text": [
      "Tool       | Installed \n",
      "-----------------------\n",
      "curl       | True      \n",
      "wget       | True      \n",
      "rsync      | True      \n"
     ]
    },
    {
     "name": "stderr",
     "output_type": "stream",
     "text": [
      "INFO - GRCh38 is already installed.\n"
     ]
    },
    {
     "name": "stdout",
     "output_type": "stream",
     "text": [
      "All reference files have been created.\n",
      "To proceed with matrix_generation, please provide the path to your vcf files and an appropriate output path.\n",
      "Installation complete.\n"
     ]
    }
   ],
   "source": [
    "genInstall.install('GRCh38', rsync=False, bash=True)"
   ]
  },
  {
   "cell_type": "code",
   "execution_count": 8,
   "id": "5312e9f2",
   "metadata": {},
   "outputs": [],
   "source": [
    "project = 'vaf_spectra'\n",
    "genome = 'GRCh38'\n",
    "input_dir = '/uufs/chpc.utah.edu/common/HIPAA/u1264408/u1264408/Git/SEMIColon/data/output/CellCut/results/vaf_spectra'\n"
   ]
  },
  {
   "cell_type": "code",
   "execution_count": 9,
   "id": "a1f3d120",
   "metadata": {},
   "outputs": [],
   "source": [
    "from SigProfilerMatrixGenerator.scripts import SigProfilerMatrixGeneratorFunc as matGen"
   ]
  },
  {
   "cell_type": "code",
   "execution_count": 10,
   "id": "892761df",
   "metadata": {},
   "outputs": [
    {
     "name": "stdout",
     "output_type": "stream",
     "text": [
      "Starting matrix generation for SNVs and DINUCs...Completed! Elapsed time: 32.17 seconds.\n",
      "Matrices generated for 430 samples with 0 errors. Total of 681453 SNVs, 77 DINUCs, and 0 INDELs were successfully analyzed.\n"
     ]
    }
   ],
   "source": [
    "matrices = matGen.SigProfilerMatrixGeneratorFunc(project, genome, input_dir, exome=False, bed_file=None, chrom_based=False, plot=False, tsb_stat=False, seqInfo=False)"
   ]
  },
  {
   "cell_type": "code",
   "execution_count": 17,
   "id": "3c6f726b",
   "metadata": {},
   "outputs": [],
   "source": [
    "import sigProfilerPlotting as sigPlt"
   ]
  },
  {
   "cell_type": "code",
   "execution_count": 8,
   "id": "9df502a8",
   "metadata": {},
   "outputs": [],
   "source": [
    "matrix_path = '/uufs/chpc.utah.edu/common/HIPAA/u1264408/u1264408/Git/SEMIColon/data/output/CellCut/results/vaf_spectra/output'"
   ]
  },
  {
   "cell_type": "code",
   "execution_count": 9,
   "id": "72e03e52",
   "metadata": {},
   "outputs": [],
   "source": [
    "matrix_path_SBS = matrix_path + '/SBS/vaf_spectra.'"
   ]
  },
  {
   "cell_type": "code",
   "execution_count": 10,
   "id": "ed69a52e",
   "metadata": {},
   "outputs": [],
   "source": [
    "sigPlt.plotSBS(matrix_path_SBS + \"SBS6.all\", matrix_path, project, \"6\", percentage=False)"
   ]
  },
  {
   "cell_type": "code",
   "execution_count": 11,
   "id": "2d9c5141",
   "metadata": {},
   "outputs": [],
   "source": [
    "sigPlt.plotSBS(matrix_path_SBS + \"SBS96.all\", matrix_path, project, \"96\", percentage=False)"
   ]
  },
  {
   "cell_type": "code",
   "execution_count": null,
   "id": "c5e742da",
   "metadata": {},
   "outputs": [],
   "source": []
  }
 ],
 "metadata": {
  "kernelspec": {
   "display_name": "base",
   "language": "python",
   "name": "python3"
  },
  "language_info": {
   "codemirror_mode": {
    "name": "ipython",
    "version": 3
   },
   "file_extension": ".py",
   "mimetype": "text/x-python",
   "name": "python",
   "nbconvert_exporter": "python",
   "pygments_lexer": "ipython3",
   "version": "3.12.9"
  }
 },
 "nbformat": 4,
 "nbformat_minor": 5
}
