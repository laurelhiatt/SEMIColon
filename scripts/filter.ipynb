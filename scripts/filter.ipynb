{
 "cells": [
  {
   "cell_type": "code",
   "execution_count": null,
   "metadata": {},
   "outputs": [],
   "source": [
    "import pandas as pd\n",
    "from cyvcf2 import VCF"
   ]
  },
  {
   "cell_type": "code",
   "execution_count": null,
   "metadata": {},
   "outputs": [],
   "source": [
    "vcf = list(VCF('/Users/quinlan/Documents/Git/SEMIColon/data/test_donor212_snp_chunk_chr21.vcf'))\n"
   ]
  },
  {
   "cell_type": "code",
   "execution_count": null,
   "metadata": {},
   "outputs": [],
   "source": [
    "HET=1\n",
    "UNKNOWN=2\n",
    "HOM_ALT=3\n",
    "HOM_REF=0"
   ]
  },
  {
   "cell_type": "code",
   "execution_count": null,
   "metadata": {},
   "outputs": [],
   "source": [
    "for v in vcf:\n",
    "    #SNVs = [v for v in vcf if v.INFO.get('TYPE') == 'snp']\n",
    "    print(v.genotype)\n",
    "    print(v.QUAL)\n",
    "    print(v.gt_depths)\n"
   ]
  },
  {
   "cell_type": "code",
   "execution_count": null,
   "metadata": {},
   "outputs": [],
   "source": [
    "for v in vcf:\n",
    "    if v.QUAL>20:\n",
    "        print(v.genotype)"
   ]
  },
  {
   "cell_type": "code",
   "execution_count": 42,
   "metadata": {},
   "outputs": [
    {
     "name": "stdout",
     "output_type": "stream",
     "text": [
      "[[1 1 0]] [0] [2]\n",
      "[[2]]\n"
     ]
    },
    {
     "ename": "TypeError",
     "evalue": "'cyvcf2.cyvcf2.INFO' object is not callable",
     "output_type": "error",
     "traceback": [
      "\u001b[0;31m---------------------------------------------------------------------------\u001b[0m",
      "\u001b[0;31mTypeError\u001b[0m                                 Traceback (most recent call last)",
      "Cell \u001b[0;32mIn [42], line 5\u001b[0m\n\u001b[1;32m      3\u001b[0m \u001b[38;5;28mprint\u001b[39m(variant\u001b[38;5;241m.\u001b[39mgenotype, variant\u001b[38;5;241m.\u001b[39mgt_ref_depths, variant\u001b[38;5;241m.\u001b[39mgt_alt_depths) \u001b[38;5;66;03m# numpy arrays\u001b[39;00m\n\u001b[1;32m      4\u001b[0m \u001b[38;5;28mprint\u001b[39m(variant\u001b[38;5;241m.\u001b[39mformat(\u001b[38;5;124m\"\u001b[39m\u001b[38;5;124mDP\u001b[39m\u001b[38;5;124m\"\u001b[39m))\n\u001b[0;32m----> 5\u001b[0m \u001b[38;5;28mprint\u001b[39m(\u001b[43mvariant\u001b[49m\u001b[38;5;241;43m.\u001b[39;49m\u001b[43mINFO\u001b[49m\u001b[43m(\u001b[49m\u001b[38;5;124;43m\"\u001b[39;49m\u001b[38;5;124;43mMIN_DP\u001b[39;49m\u001b[38;5;124;43m\"\u001b[39;49m\u001b[43m)\u001b[49m)\n",
      "\u001b[0;31mTypeError\u001b[0m: 'cyvcf2.cyvcf2.INFO' object is not callable"
     ]
    }
   ],
   "source": [
    "for variant in vcf:\n",
    "    if v.QUAL>20:\n",
    "        print(variant.genotype, variant.gt_ref_depths, variant.gt_alt_depths) # numpy arrays\n",
    "        print(variant.format(\"DP\"))\n",
    "        print(variant.INFO(\"MIN_DP\"))\n",
    "\n"
   ]
  }
 ],
 "metadata": {
  "kernelspec": {
   "display_name": "filterpy",
   "language": "python",
   "name": "python3"
  },
  "language_info": {
   "codemirror_mode": {
    "name": "ipython",
    "version": 3
   },
   "file_extension": ".py",
   "mimetype": "text/x-python",
   "name": "python",
   "nbconvert_exporter": "python",
   "pygments_lexer": "ipython3",
   "version": "3.11.0"
  }
 },
 "nbformat": 4,
 "nbformat_minor": 2
}
